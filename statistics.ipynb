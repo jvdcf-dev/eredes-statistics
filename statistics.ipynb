{
 "cells": [
  {
   "cell_type": "markdown",
   "metadata": {},
   "source": [
    "# Estatísticas E-Redes"
   ]
  },
  {
   "cell_type": "markdown",
   "metadata": {},
   "source": [
    "### Pré-requesitos\n"
   ]
  },
  {
   "cell_type": "code",
   "execution_count": null,
   "metadata": {},
   "outputs": [],
   "source": [
    "# Import all the necessary libraries\n",
    "import generate_plots                       # Source code of the plots (see plots.py)\n",
    "import generate_table                       # Generate table based on the .xlsx files (see eredes.py)\n",
    "import matplotlib as plt                    # Plotting library\n",
    "\n",
    "statistics = generate_plots.Plots(\"readings\")"
   ]
  },
  {
   "cell_type": "code",
   "execution_count": null,
   "metadata": {},
   "outputs": [],
   "source": [
    "\n",
    "plt.style.use('Solarize_Light2')            # Set the style of the plots\n",
    "plt.rcParams[\"figure.figsize\"] = (10, 5)    # Set the size of the plots"
   ]
  },
  {
   "cell_type": "code",
   "execution_count": null,
   "metadata": {},
   "outputs": [],
   "source": [
    "# Set the prices for each tariff\n",
    "prices = [\n",
    "    # Ano, Vazio, Ponta, Cheias\n",
    "    [2023, 0.01, 0.05, 0.08],\n",
    "    [2024, 0.11, 0.15, 0.18] \n",
    "]\n",
    "statistics.set_prices(prices)"
   ]
  },
  {
   "cell_type": "code",
   "execution_count": null,
   "metadata": {},
   "outputs": [],
   "source": [
    "# Set the turning day \n",
    "# Ex: 2023/12 => Period 2023/12/16 - 2024/01/15, if offset = 16\n",
    "statistics.set_turning_day(16)"
   ]
  },
  {
   "cell_type": "markdown",
   "metadata": {},
   "source": [
    "---"
   ]
  },
  {
   "cell_type": "markdown",
   "metadata": {},
   "source": [
    "### Estatísticas"
   ]
  },
  {
   "cell_type": "code",
   "execution_count": null,
   "metadata": {},
   "outputs": [],
   "source": [
    "statistics.execute()"
   ]
  },
  {
   "cell_type": "markdown",
   "metadata": {},
   "source": [
    "---\n"
   ]
  },
  {
   "cell_type": "markdown",
   "metadata": {},
   "source": [
    "### Converter tabela para Excel"
   ]
  },
  {
   "cell_type": "markdown",
   "metadata": {},
   "source": [
    "Após executar, um ficheiro `database.csv` deve aparecer na pasta `eredes`.  \n",
    "_(A pasta está localizada no menu da esquerda)_"
   ]
  },
  {
   "cell_type": "code",
   "execution_count": null,
   "metadata": {},
   "outputs": [],
   "source": [
    "table = generate_table.new_database(\"readings\")\n",
    "table.to_csv(\"database.csv\", index=True)"
   ]
  }
 ],
 "metadata": {
  "kernelspec": {
   "display_name": "Python 3 (ipykernel)",
   "language": "python",
   "name": "python3"
  },
  "language_info": {
   "codemirror_mode": {
    "name": "ipython",
    "version": 3
   },
   "file_extension": ".py",
   "mimetype": "text/x-python",
   "name": "python",
   "nbconvert_exporter": "python",
   "pygments_lexer": "ipython3",
   "version": "3.12.1"
  }
 },
 "nbformat": 4,
 "nbformat_minor": 4
}
